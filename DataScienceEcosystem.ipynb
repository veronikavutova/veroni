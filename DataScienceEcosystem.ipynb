{
 "cells": [
  {
   "cell_type": "markdown",
   "id": "79189c5f-4d53-4430-8007-4d3d6a649576",
   "metadata": {},
   "source": [
    "# Data Science Tools and Ecosystem"
   ]
  },
  {
   "cell_type": "markdown",
   "id": "4a3ef509-d180-453c-a523-567726a70745",
   "metadata": {},
   "source": [
    "In this notebook, Data Science Tools and Ecosystem are summarized."
   ]
  },
  {
   "cell_type": "markdown",
   "id": "111259a3-47f8-4d76-bda4-1646b838a540",
   "metadata": {},
   "source": [
    "Some of the popular languages that Data Scientists use are:\n",
    "1. Python\n",
    "2. R\n",
    "3. Julia\n",
    "4. others"
   ]
  },
  {
   "cell_type": "markdown",
   "id": "0cda6f23-a483-477e-a5e8-93b6a49c1110",
   "metadata": {},
   "source": [
    "| Data Science Tools |   |   |\n",
    "| :- | -: | :-: |\n",
    "| Excel | | \n",
    "| Tablue | | \n",
    "| Power BI| | "
   ]
  },
  {
   "cell_type": "markdown",
   "id": "5854b49d-ad83-4d30-8060-856cf8fa746c",
   "metadata": {},
   "source": [
    "### Below are a few examples of evaluating arithmetic expressions in Python"
   ]
  },
  {
   "cell_type": "code",
   "execution_count": 1,
   "id": "09ed8d05-013f-4072-a746-d640893c2860",
   "metadata": {},
   "outputs": [
    {
     "data": {
      "text/plain": [
       "17"
      ]
     },
     "execution_count": 1,
     "metadata": {},
     "output_type": "execute_result"
    }
   ],
   "source": [
    "#this a simple arithmetic expression to mutiply then add integers\n",
    "(3*4)+5"
   ]
  },
  {
   "cell_type": "code",
   "execution_count": 2,
   "id": "337e4f23-f9d1-487c-af59-188883173f4e",
   "metadata": {},
   "outputs": [
    {
     "data": {
      "text/plain": [
       "3.3333333333333335"
      ]
     },
     "execution_count": 2,
     "metadata": {},
     "output_type": "execute_result"
    }
   ],
   "source": [
    "#This will convert 200 minutes to hours by diving by 60\n",
    "200/60"
   ]
  },
  {
   "cell_type": "markdown",
   "id": "21fd0b79-2844-4869-b95b-ffe08c4ff1a2",
   "metadata": {},
   "source": [
    "Exercise 10 - Insert a markdown cell to list Objectives"
   ]
  },
  {
   "cell_type": "markdown",
   "id": "462fcd79-5c7a-4329-88e0-fe304a164540",
   "metadata": {},
   "source": [
    "Objectives:\n",
    "- Python\n",
    "- Kernels\n",
    "- R studio\n",
    "- other\n"
   ]
  },
  {
   "cell_type": "markdown",
   "id": "a6a3646c-7477-4c7b-9a95-c96af66bbc73",
   "metadata": {},
   "source": [
    "## Author\n",
    "Veronika Vutova"
   ]
  },
  {
   "cell_type": "code",
   "execution_count": null,
   "id": "d82e014a-92c5-4dfa-ae33-f7e9934102af",
   "metadata": {},
   "outputs": [],
   "source": []
  }
 ],
 "metadata": {
  "kernelspec": {
   "display_name": "Python",
   "language": "python",
   "name": "conda-env-python-py"
  },
  "language_info": {
   "codemirror_mode": {
    "name": "ipython",
    "version": 3
   },
   "file_extension": ".py",
   "mimetype": "text/x-python",
   "name": "python",
   "nbconvert_exporter": "python",
   "pygments_lexer": "ipython3",
   "version": "3.7.12"
  }
 },
 "nbformat": 4,
 "nbformat_minor": 5
}
